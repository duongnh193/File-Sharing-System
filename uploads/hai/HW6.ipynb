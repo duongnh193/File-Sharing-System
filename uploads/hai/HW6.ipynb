{
 "cells": [
  {
   "cell_type": "markdown",
   "id": "52575025",
   "metadata": {},
   "source": [
    "\n",
    "# Lab: Data Replication in Python\n",
    "\n",
    "## Objectives:\n",
    "1. Understand the concept of data replication in Python.\n",
    "2. Learn how to duplicate and manipulate data structures like lists, dictionaries, and custom objects.\n",
    "3. Practice shallow and deep copying.\n",
    "4. Explore use cases for data replication in real-world scenarios.\n"
   ]
  },
  {
   "cell_type": "markdown",
   "id": "8923d3b6",
   "metadata": {},
   "source": [
    "\n",
    "## Task 1: Assignment vs Copy\n",
    "\n",
    "### Problem Statement:\n",
    "Demonstrate the difference between creating a new reference (assignment) and copying data.\n",
    "\n",
    "### Steps:\n",
    "1. Create a list `list_a = [1, 2, 3]`.\n",
    "2. Assign `list_b = list_a`.\n",
    "3. Modify `list_b` and observe changes in `list_a`.\n",
    "4. Use `copy.copy()` to create a shallow copy and verify its behavior.\n"
   ]
  },
  {
   "cell_type": "code",
   "execution_count": 1,
   "id": "18cd3fee",
   "metadata": {},
   "outputs": [
    {
     "name": "stdout",
     "output_type": "stream",
     "text": [
      "Original list_a: [1, 2, 3, 4]\n",
      "Assigned list_b: [1, 2, 3, 4]\n",
      "Shallow copy list_c: [1, 2, 3, 4, 5]\n",
      "Original list_a after shallow copy modification: [1, 2, 3, 4]\n"
     ]
    }
   ],
   "source": [
    "\n",
    "import copy\n",
    "\n",
    "list_a = [1, 2, 3]\n",
    "list_b = list_a\n",
    "list_b.append(4)\n",
    "\n",
    "print(\"Original list_a:\", list_a)  # Observe the change\n",
    "print(\"Assigned list_b:\", list_b)\n",
    "\n",
    "list_c = copy.copy(list_a)\n",
    "list_c.append(5)\n",
    "\n",
    "print(\"Shallow copy list_c:\", list_c)\n",
    "print(\"Original list_a after shallow copy modification:\", list_a)\n"
   ]
  },
  {
   "cell_type": "markdown",
   "id": "f2f0cd58",
   "metadata": {},
   "source": [
    "### Giải thích:\n",
    "1. Khi list_b = list_a, list_b chỉ là một tham chiếu đến list_a. Do đó, thay đổi list_b cũng làm thay đổi list_a.\n",
    "2. Khi sử dụng copy.copy(), một bản sao mới được tạo, và các thay đổi trong list_c không ảnh hưởng đến list_a."
   ]
  },
  {
   "cell_type": "markdown",
   "id": "98b25513",
   "metadata": {},
   "source": [
    "\n",
    "## Task 2: Deep Copy with Nested Structures\n",
    "\n",
    "### Problem Statement:\n",
    "Illustrate how deep copy works with nested data structures.\n",
    "\n",
    "### Steps:\n",
    "1. Create a nested list: `nested_list = [[1, 2], [3, 4]]`.\n",
    "2. Perform a shallow copy and modify the inner list.\n",
    "3. Use `copy.deepcopy()` and compare the results.\n"
   ]
  },
  {
   "cell_type": "code",
   "execution_count": 2,
   "id": "81ab464f",
   "metadata": {},
   "outputs": [
    {
     "name": "stdout",
     "output_type": "stream",
     "text": [
      "Original nested_list: [[99, 2], [3, 4]]\n",
      "Shallow copy: [[99, 2], [3, 4]]\n",
      "Deep copy: [[1, 2], [3, 77]]\n"
     ]
    }
   ],
   "source": [
    "\n",
    "nested_list = [[1, 2], [3, 4]]\n",
    "shallow_copy = copy.copy(nested_list)\n",
    "deep_copy = copy.deepcopy(nested_list)\n",
    "\n",
    "shallow_copy[0][0] = 99\n",
    "deep_copy[1][1] = 77\n",
    "\n",
    "print(\"Original nested_list:\", nested_list)\n",
    "print(\"Shallow copy:\", shallow_copy)\n",
    "print(\"Deep copy:\", deep_copy)\n"
   ]
  },
  {
   "cell_type": "markdown",
   "id": "c9423f2e",
   "metadata": {},
   "source": [
    "### Giải thích\n",
    "1. Sao chép nông (copy.copy) chỉ sao chép lớp ngoài cùng. Khi thay đổi phần tử lồng bên trong, bản gốc cũng bị thay đổi.\n",
    "2. Sao chép sâu (copy.deepcopy) sao chép toàn bộ cấu trúc, tạo bản sao hoàn toàn độc lập."
   ]
  },
  {
   "cell_type": "markdown",
   "id": "bf2c3312",
   "metadata": {},
   "source": [
    "\n",
    "## Task 3: Copying Dictionaries\n",
    "\n",
    "### Problem Statement:\n",
    "Show how to replicate and manipulate dictionaries.\n",
    "\n",
    "### Steps:\n",
    "1. Create a dictionary: `dict_a = {'key1': [1, 2], 'key2': [3, 4]}`.\n",
    "2. Perform a shallow copy and a deep copy.\n",
    "3. Modify the values and observe the differences.\n"
   ]
  },
  {
   "cell_type": "code",
   "execution_count": 3,
   "id": "e32619eb",
   "metadata": {},
   "outputs": [
    {
     "name": "stdout",
     "output_type": "stream",
     "text": [
      "Original dictionary: {'key1': [1, 2, 5], 'key2': [3, 4]}\n",
      "Shallow copy: {'key1': [1, 2, 5], 'key2': [3, 4]}\n",
      "Deep copy: {'key1': [1, 2], 'key2': [3, 4, 6]}\n"
     ]
    }
   ],
   "source": [
    "\n",
    "dict_a = {'key1': [1, 2], 'key2': [3, 4]}\n",
    "shallow_copy_dict = copy.copy(dict_a)\n",
    "deep_copy_dict = copy.deepcopy(dict_a)\n",
    "\n",
    "shallow_copy_dict['key1'].append(5)\n",
    "deep_copy_dict['key2'].append(6)\n",
    "\n",
    "print(\"Original dictionary:\", dict_a)\n",
    "print(\"Shallow copy:\", shallow_copy_dict)\n",
    "print(\"Deep copy:\", deep_copy_dict)\n"
   ]
  },
  {
   "cell_type": "markdown",
   "id": "b25d6024",
   "metadata": {},
   "source": [
    "### Giải thích\n",
    "1. Sao chép nông: Chỉ sao chép lớp ngoài của từ điển, tham chiếu đến các giá trị lồng bên trong.\n",
    "2. Sao chép sâu: Tạo bản sao hoàn toàn độc lập, không bị ảnh hưởng khi thay đổi bản sao."
   ]
  },
  {
   "cell_type": "markdown",
   "id": "0316bd1e",
   "metadata": {},
   "source": [
    "\n",
    "## Task 4: Real-World Example\n",
    "\n",
    "### Problem Statement:\n",
    "Simulate a real-world scenario where data replication is crucial.\n",
    "\n",
    "### Scenario:\n",
    "Create a list of student records, where each record is a dictionary. Perform deep and shallow copies to simulate changes in one dataset while keeping another intact.\n"
   ]
  },
  {
   "cell_type": "code",
   "execution_count": 4,
   "id": "469ed52a",
   "metadata": {},
   "outputs": [
    {
     "name": "stdout",
     "output_type": "stream",
     "text": [
      "Original students: [{'name': 'Alice', 'grades': [99, 90]}, {'name': 'Bob', 'grades': [78, 82]}]\n",
      "Shallow copy students: [{'name': 'Alice', 'grades': [99, 90]}, {'name': 'Bob', 'grades': [78, 82]}]\n",
      "Deep copy students: [{'name': 'Alice', 'grades': [85, 90]}, {'name': 'Bob', 'grades': [78, 100]}]\n"
     ]
    }
   ],
   "source": [
    "\n",
    "students = [\n",
    "    {'name': 'Alice', 'grades': [85, 90]},\n",
    "    {'name': 'Bob', 'grades': [78, 82]}\n",
    "]\n",
    "\n",
    "shallow_students = copy.copy(students)\n",
    "deep_students = copy.deepcopy(students)\n",
    "\n",
    "# Modify grades in the shallow copy\n",
    "shallow_students[0]['grades'][0] = 99\n",
    "\n",
    "# Modify grades in the deep copy\n",
    "deep_students[1]['grades'][1] = 100\n",
    "\n",
    "print(\"Original students:\", students)\n",
    "print(\"Shallow copy students:\", shallow_students)\n",
    "print(\"Deep copy students:\", deep_students)\n"
   ]
  },
  {
   "cell_type": "markdown",
   "id": "0654048d",
   "metadata": {},
   "source": [
    "### Giải thích\n",
    "1. Sao chép nông: Thay đổi scores trong shallow_students cũng làm thay đổi students.\n",
    "2. Sao chép sâu: deep_students không ảnh hưởng đến students vì nó tạo bản sao độc lập."
   ]
  },
  {
   "cell_type": "markdown",
   "id": "cd37adc2",
   "metadata": {},
   "source": [
    "\n",
    "## Summary and Questions\n",
    "\n",
    "### Discussion Points:\n",
    "- When to use shallow vs deep copies.\n",
    "- Pitfalls of using assignment for copying.\n",
    "\n",
    "### Questions:\n",
    "1. What happens when you modify a nested structure in a shallow copy?\n",
    "2. Why is `deepcopy()` needed in some scenarios?\n"
   ]
  },
  {
   "cell_type": "markdown",
   "id": "77506bce",
   "metadata": {},
   "source": [
    "\n",
    "## Đáp án\n",
    "### Discussion Points:\n",
    "* Khi chỉ cần sao chép cấu trúc ngoài mà không thao tác các phần tử bên trong.\n",
    "* Khi cần đảm bảo tính độc lập của toàn bộ cấu trúc dữ liệu.\n",
    "* Gán chỉ sao chép tham chiếu, dễ gây thay đổi không mong muốn.\n",
    "### Questions:\n",
    "1. Thay đổi sẽ phản ánh trong bản gốc do tham chiếu đến cấu trúc bên trong.\n",
    "2. Để tránh liên kết giữa các đối tượng khi thao tác trên cấu trúc lồng nhau, đảm bảo dữ liệu độc lập.\n"
   ]
  }
 ],
 "metadata": {
  "kernelspec": {
   "display_name": "Python 3 (ipykernel)",
   "language": "python",
   "name": "python3"
  },
  "language_info": {
   "codemirror_mode": {
    "name": "ipython",
    "version": 3
   },
   "file_extension": ".py",
   "mimetype": "text/x-python",
   "name": "python",
   "nbconvert_exporter": "python",
   "pygments_lexer": "ipython3",
   "version": "3.9.7"
  }
 },
 "nbformat": 4,
 "nbformat_minor": 5
}
